{
 "cells": [
  {
   "cell_type": "markdown",
   "metadata": {
    "id": "2ZAGaHoJdYBD"
   },
   "source": [
    "# **Task**-**1**"
   ]
  },
  {
   "cell_type": "markdown",
   "metadata": {
    "id": "70iq0BAvdg5V"
   },
   "source": [
    "**Prediction Using Supervised Learning**"
   ]
  },
  {
   "cell_type": "markdown",
   "metadata": {
    "id": "ZGDQRnnfbfF-"
   },
   "source": [
    "**Author**-**Selva Vignesh M**"
   ]
  },
  {
   "cell_type": "markdown",
   "metadata": {
    "id": "H7xlX1rybqte"
   },
   "source": [
    " **Grip**@**TheSparksFoundation**"
   ]
  },
  {
   "cell_type": "markdown",
   "metadata": {
    "id": "W2rdPtiR2Zkg"
   },
   "source": [
    "# **Importing Libraries**"
   ]
  },
  {
   "cell_type": "code",
   "execution_count": 5,
   "metadata": {
    "id": "8YjBQJL_W5A_"
   },
   "outputs": [],
   "source": [
    "import pandas as pd\n",
    "import numpy as np\n",
    "import matplotlib.pyplot as plt \n",
    "from sklearn.model_selection import train_test_split\n",
    "from sklearn.linear_model import LinearRegression\n",
    "%matplotlib inline"
   ]
  },
  {
   "cell_type": "markdown",
   "metadata": {
    "id": "FxSTIFd11iwj"
   },
   "source": [
    "# **Importing Data**"
   ]
  },
  {
   "cell_type": "markdown",
   "metadata": {},
   "source": [
    " **The dataset is imported from the link provided.**"
   ]
  },
  {
   "cell_type": "code",
   "execution_count": 6,
   "metadata": {
    "colab": {
     "base_uri": "https://localhost:8080/",
     "height": 204
    },
    "id": "GhYEWOZbXHxv",
    "outputId": "e5442cf9-ea65-40d9-d0a2-555aa160d81b"
   },
   "outputs": [
    {
     "data": {
      "text/html": [
       "<div>\n",
       "<style scoped>\n",
       "    .dataframe tbody tr th:only-of-type {\n",
       "        vertical-align: middle;\n",
       "    }\n",
       "\n",
       "    .dataframe tbody tr th {\n",
       "        vertical-align: top;\n",
       "    }\n",
       "\n",
       "    .dataframe thead th {\n",
       "        text-align: right;\n",
       "    }\n",
       "</style>\n",
       "<table border=\"1\" class=\"dataframe\">\n",
       "  <thead>\n",
       "    <tr style=\"text-align: right;\">\n",
       "      <th></th>\n",
       "      <th>Hours</th>\n",
       "      <th>Scores</th>\n",
       "    </tr>\n",
       "  </thead>\n",
       "  <tbody>\n",
       "    <tr>\n",
       "      <td>0</td>\n",
       "      <td>2.5</td>\n",
       "      <td>21</td>\n",
       "    </tr>\n",
       "    <tr>\n",
       "      <td>1</td>\n",
       "      <td>5.1</td>\n",
       "      <td>47</td>\n",
       "    </tr>\n",
       "    <tr>\n",
       "      <td>2</td>\n",
       "      <td>3.2</td>\n",
       "      <td>27</td>\n",
       "    </tr>\n",
       "    <tr>\n",
       "      <td>3</td>\n",
       "      <td>8.5</td>\n",
       "      <td>75</td>\n",
       "    </tr>\n",
       "    <tr>\n",
       "      <td>4</td>\n",
       "      <td>3.5</td>\n",
       "      <td>30</td>\n",
       "    </tr>\n",
       "  </tbody>\n",
       "</table>\n",
       "</div>"
      ],
      "text/plain": [
       "   Hours  Scores\n",
       "0    2.5      21\n",
       "1    5.1      47\n",
       "2    3.2      27\n",
       "3    8.5      75\n",
       "4    3.5      30"
      ]
     },
     "execution_count": 6,
     "metadata": {},
     "output_type": "execute_result"
    }
   ],
   "source": [
    "url = \"http://bit.ly/w-data\"\n",
    "df = pd.read_csv(url)\n",
    "df.head()"
   ]
  },
  {
   "cell_type": "markdown",
   "metadata": {
    "id": "CtquE3i91sZy"
   },
   "source": [
    "# **Data Visualization**"
   ]
  },
  {
   "cell_type": "markdown",
   "metadata": {},
   "source": [
    "**Scatter Plot**"
   ]
  },
  {
   "cell_type": "code",
   "execution_count": 7,
   "metadata": {
    "colab": {
     "base_uri": "https://localhost:8080/",
     "height": 312
    },
    "id": "Vnyz4OtKXbkS",
    "outputId": "0b89bb72-547c-4450-95de-9abf09849b46"
   },
   "outputs": [
    {
     "data": {
      "text/plain": [
       "Text(0.5, 1.0, 'Student score')"
      ]
     },
     "execution_count": 7,
     "metadata": {},
     "output_type": "execute_result"
    },
    {
     "data": {
      "image/png": "[encoded data removed]",
      "text/plain": [
       "<Figure size 432x288 with 1 Axes>"
      ]
     },
     "metadata": {
      "needs_background": "light"
     },
     "output_type": "display_data"
    }
   ],
   "source": [
    "plt.plot(df.Hours,df.Scores,'r*')\n",
    "plt.xlabel('Hours')\n",
    "plt.ylabel('Scores')\n",
    "plt.title('Student score')"
   ]
  },
  {
   "cell_type": "markdown",
   "metadata": {
    "id": "ZMieMcEM3CvE"
   },
   "source": [
    "# **Data preparation**"
   ]
  },
  {
   "cell_type": "markdown",
   "metadata": {},
   "source": [
    "**X -> Independent variable\n",
    "Y -> Dependent variable**\n",
    "\n",
    "***X - Hours, y - Scores (in %)***"
   ]
  },
  {
   "cell_type": "code",
   "execution_count": 8,
   "metadata": {
    "id": "m-WF6sGcb9cG"
   },
   "outputs": [],
   "source": [
    "x= df[['Hours']]\n",
    "y =df['Scores']"
   ]
  },
  {
   "cell_type": "markdown",
   "metadata": {
    "id": "jYk7BX8y1u9E"
   },
   "source": [
    "# **Train test split**"
   ]
  },
  {
   "cell_type": "markdown",
   "metadata": {},
   "source": [
    "**The data is split into Training set and Test Set with the help of 'train_test_split' function of 'sklearn model selection**"
   ]
  },
  {
   "cell_type": "code",
   "execution_count": 9,
   "metadata": {
    "id": "RVL5BwTPb9eq"
   },
   "outputs": [],
   "source": [
    "X_train, X_test, Y_train, Y_test = train_test_split(x,y,test_size=0.25)"
   ]
  },
  {
   "cell_type": "markdown",
   "metadata": {
    "id": "GZRYDWwz1zSA"
   },
   "source": [
    "# **Fitting the regression model**"
   ]
  },
  {
   "cell_type": "markdown",
   "metadata": {},
   "source": [
    "**Here we implement the SIMPLE LINEAR REGRESSION MODEL since the data contains only 2 variables, X and y for which we can study and summarize their relationship**"
   ]
  },
  {
   "cell_type": "code",
   "execution_count": 10,
   "metadata": {
    "colab": {
     "base_uri": "https://localhost:8080/"
    },
    "id": "ZFo_3j7Zb9gs",
    "outputId": "b330f5e9-294e-4afc-883f-6c56ea5d882b"
   },
   "outputs": [
    {
     "data": {
      "text/plain": [
       "LinearRegression(copy_X=True, fit_intercept=True, n_jobs=None, normalize=False)"
      ]
     },
     "execution_count": 10,
     "metadata": {},
     "output_type": "execute_result"
    }
   ],
   "source": [
    "model = LinearRegression()\n",
    "model.fit(X_train,Y_train)"
   ]
  },
  {
   "cell_type": "code",
   "execution_count": 11,
   "metadata": {
    "id": "EkxT13xphuGy"
   },
   "outputs": [],
   "source": [
    "y_pred=model.predict(x)"
   ]
  },
  {
   "cell_type": "markdown",
   "metadata": {
    "id": "jM6FfHUi2H65"
   },
   "source": [
    "**Model** **Score**"
   ]
  },
  {
   "cell_type": "code",
   "execution_count": 12,
   "metadata": {
    "colab": {
     "base_uri": "https://localhost:8080/"
    },
    "id": "kPCu2vqNb9jd",
    "outputId": "08c9d8a6-9f5b-4aa5-83ae-abafd2b43960"
   },
   "outputs": [
    {
     "data": {
      "text/plain": [
       "0.9384559134186414"
      ]
     },
     "execution_count": 12,
     "metadata": {},
     "output_type": "execute_result"
    }
   ],
   "source": [
    "model.score(X_test,Y_test)"
   ]
  },
  {
   "cell_type": "markdown",
   "metadata": {},
   "source": [
    "**Here we get a model score od 92% indicating the model has performed well in order to predict the given input**"
   ]
  },
  {
   "cell_type": "markdown",
   "metadata": {
    "id": "R2-7SqES2MbR"
   },
   "source": [
    "# **Regression** **Line**"
   ]
  },
  {
   "cell_type": "markdown",
   "metadata": {},
   "source": [
    "**The plots help us to visualize the relationship between X and Y variable.\n",
    "Here, we can Scatter Plot the Actual Datapoints and plot the Regression line of Simple Linear Regression model.**"
   ]
  },
  {
   "cell_type": "code",
   "execution_count": 13,
   "metadata": {
    "colab": {
     "base_uri": "https://localhost:8080/",
     "height": 312
    },
    "id": "9E6-aKqxiHw1",
    "outputId": "26c3e259-d166-44dd-91be-3256fc3a948d"
   },
   "outputs": [
    {
     "data": {
      "text/plain": [
       "[<matplotlib.lines.Line2D at 0x189da1a3e88>]"
      ]
     },
     "execution_count": 13,
     "metadata": {},
     "output_type": "execute_result"
    },
    {
     "data": {
      "image/png": "[encoded data removed]",
      "text/plain": [
       "<Figure size 432x288 with 1 Axes>"
      ]
     },
     "metadata": {
      "needs_background": "light"
     },
     "output_type": "display_data"
    }
   ],
   "source": [
    "plt.xlabel('Hours')\n",
    "plt.ylabel('Scores')\n",
    "plt.title('Student score')\n",
    "plt.scatter(x,y,color='b',marker='*')\n",
    "plt.plot(x,y_pred,color='r')"
   ]
  },
  {
   "cell_type": "markdown",
   "metadata": {
    "id": "uBb7NA012QAQ"
   },
   "source": [
    "**Final Prediction**"
   ]
  },
  {
   "cell_type": "code",
   "execution_count": 14,
   "metadata": {
    "colab": {
     "base_uri": "https://localhost:8080/"
    },
    "id": "eLGtY8_ZiHzw",
    "outputId": "a552c3f3-4ec1-40fc-a6df-71de625706f3"
   },
   "outputs": [
    {
     "name": "stdout",
     "output_type": "stream",
     "text": [
      "No of Hours = 9.5\n",
      "Predicted Score = 92.63874060707263\n"
     ]
    }
   ],
   "source": [
    "c= model.predict([[9.5]])\n",
    "print(\"No of Hours = {}\".format(9.5))\n",
    "print(\"Predicted Score = {}\".format(c[0]))"
   ]
  },
  {
   "cell_type": "markdown",
   "metadata": {},
   "source": [
    "**The Predicted Score for student who studies 9.25 hrs/day : 92.6387**"
   ]
  }
 ],
 "metadata": {
  "colab": {
   "name": "Task-1.ipynb",
   "provenance": []
  },
  "kernelspec": {
   "display_name": "Python 3",
   "language": "python",
   "name": "python3"
  },
  "language_info": {
   "codemirror_mode": {
    "name": "ipython",
    "version": 3
   },
   "file_extension": ".py",
   "mimetype": "text/x-python",
   "name": "python",
   "nbconvert_exporter": "python",
   "pygments_lexer": "ipython3",
   "version": "3.7.4"
  }
 },
 "nbformat": 4,
 "nbformat_minor": 1
}
